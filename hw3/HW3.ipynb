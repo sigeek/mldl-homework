{
  "nbformat": 4,
  "nbformat_minor": 0,
  "metadata": {
    "colab": {
      "name": "HW3.ipynb",
      "provenance": [],
      "collapsed_sections": [],
      "toc_visible": true
    },
    "kernelspec": {
      "name": "python3",
      "display_name": "Python 3"
    },
    "accelerator": "GPU"
  },
  "cells": [
    {
      "cell_type": "markdown",
      "metadata": {
        "id": "Gca-xOfTL7jr",
        "colab_type": "text"
      },
      "source": [
        "# Configuration\n"
      ]
    },
    {
      "cell_type": "code",
      "metadata": {
        "id": "-XTfNNioL6H1",
        "colab_type": "code",
        "colab": {}
      },
      "source": [
        "import os\n",
        "import logging\n",
        "\n",
        "import torch\n",
        "import torch.nn as nn\n",
        "import torch.optim as optim\n",
        "from torch.utils.data import Subset, DataLoader\n",
        "from torch.hub import load_state_dict_from_url\n",
        "from torch.backends import cudnn\n",
        "\n",
        "import torchvision\n",
        "from torchvision import transforms\n",
        "from torchvision.models import alexnet, resnet18\n",
        "\n",
        "from PIL import Image\n",
        "from tqdm.notebook import tqdm\n",
        "\n",
        "from torchvision.datasets import ImageFolder\n",
        "import os.path\n",
        "import sys\n",
        "\n",
        "from sklearn.preprocessing import LabelEncoder\n",
        "import numpy as np\n",
        "from sklearn.model_selection import train_test_split\n",
        "\n",
        "from torch.utils.tensorboard import SummaryWriter\n",
        "\n",
        "import matplotlib.pyplot as plt\n",
        "import pandas as pd\n",
        "\n",
        "import torch.nn as nn\n",
        "from torch.autograd import Function\n",
        "import itertools\n",
        "\n",
        "#import warnings\n",
        "#warnings.filterwarnings('ignore')"
      ],
      "execution_count": 0,
      "outputs": []
    },
    {
      "cell_type": "code",
      "metadata": {
        "id": "M277bh26MBMI",
        "colab_type": "code",
        "colab": {}
      },
      "source": [
        "DEVICE = 'cuda' \n",
        "NUM_CLASSES = 7 \n",
        "NUM_DOMAINS= 2\n",
        "BATCH_SIZE = 128"
      ],
      "execution_count": 0,
      "outputs": []
    },
    {
      "cell_type": "markdown",
      "metadata": {
        "id": "2KeYnlWtWOra",
        "colab_type": "text"
      },
      "source": [
        "# 1 - Import dataset"
      ]
    },
    {
      "cell_type": "code",
      "metadata": {
        "id": "mYUhuuvHPU50",
        "colab_type": "code",
        "colab": {}
      },
      "source": [
        "train_transform = transforms.Compose([transforms.Resize(256),      \n",
        "                                      transforms.CenterCrop(224),  \n",
        "                                      transforms.ToTensor(), \n",
        "                                      transforms.Normalize( (0.485, 0.456, 0.406), (0.229, 0.224, 0.225) )\n",
        "])\n",
        "eval_transform = transforms.Compose([transforms.Resize(256),\n",
        "                                      transforms.CenterCrop(224),\n",
        "                                      transforms.ToTensor(),\n",
        "                                      transforms.Normalize((0.485, 0.456, 0.406), (0.229, 0.224, 0.225))  ])  "
      ],
      "execution_count": 0,
      "outputs": []
    },
    {
      "cell_type": "code",
      "metadata": {
        "id": "88vqzQTHMWEC",
        "colab_type": "code",
        "outputId": "00f28bdc-2ec4-44f7-a4b1-67a1e4bd92d2",
        "colab": {
          "base_uri": "https://localhost:8080/",
          "height": 139
        }
      },
      "source": [
        "if not os.path.isdir('./Homework3-PACS/'):\n",
        "  !git clone https://github.com/MachineLearning2020/Homework3-PACS.git\n",
        "\n",
        "DATA_DIR = 'Homework3-PACS'\n",
        "sub_folder = DATA_DIR + '/PACS'\n",
        "classes = [ item for item in os.listdir(sub_folder) if os.path.isdir(os.path.join(sub_folder, item))]\n",
        "print(\"Classes: {}\".format(classes))"
      ],
      "execution_count": 0,
      "outputs": [
        {
          "output_type": "stream",
          "text": [
            "Cloning into 'Homework3-PACS'...\n",
            "remote: Enumerating objects: 10032, done.\u001b[K\n",
            "remote: Total 10032 (delta 0), reused 0 (delta 0), pack-reused 10032\u001b[K\n",
            "Receiving objects: 100% (10032/10032), 174.13 MiB | 38.66 MiB/s, done.\n",
            "Resolving deltas: 100% (1/1), done.\n",
            "Checking out files: 100% (9993/9993), done.\n",
            "Classes: ['sketch', 'art_painting', 'cartoon', 'photo']\n"
          ],
          "name": "stdout"
        }
      ]
    },
    {
      "cell_type": "code",
      "metadata": {
        "id": "gKOCOGoGS6Vx",
        "colab_type": "code",
        "colab": {}
      },
      "source": [
        "photo_folder = ImageFolder(sub_folder + \"/photo\", transform=train_transform)\n",
        "photo_dataloader = DataLoader(photo_folder, batch_size=BATCH_SIZE,shuffle=True, num_workers=0, drop_last=True)\n",
        "\n",
        "sketch_folder = ImageFolder(sub_folder + \"/sketch\", transform=train_transform)\n",
        "sketch_dataloader = DataLoader(sketch_folder, batch_size=BATCH_SIZE,shuffle=True, num_workers=0)\n",
        "\n",
        "cartoon_folder = ImageFolder(sub_folder + \"/cartoon\", transform=train_transform)\n",
        "cartoon_dataloader = DataLoader(cartoon_folder, batch_size=BATCH_SIZE,shuffle=True, num_workers=0)\n",
        "\n",
        "art_painting_folder = ImageFolder(sub_folder + \"/art_painting\", transform=train_transform)\n",
        "art_painting_dataloader = DataLoader(art_painting_folder, batch_size=BATCH_SIZE,shuffle=True, num_workers=0, drop_last=True)"
      ],
      "execution_count": 0,
      "outputs": []
    },
    {
      "cell_type": "code",
      "metadata": {
        "id": "pXqI_XlKcgQt",
        "colab_type": "code",
        "outputId": "2c117706-ddd0-4030-c5dd-cf2ab8ed66c5",
        "colab": {
          "base_uri": "https://localhost:8080/",
          "height": 296
        }
      },
      "source": [
        "samples = [len(photo_folder), len(sketch_folder), len(cartoon_folder), len(art_painting_folder)]\n",
        "dataset_list = ['Photo', 'Sketch', 'Cartoon', 'Art Painting']\n",
        "df = pd.DataFrame(list(zip(dataset_list, samples)), columns =['Datasets', 'Samples']) \n",
        "df.plot.bar(x='Datasets', y='Samples', rot=0, cmap= 'PiYG')"
      ],
      "execution_count": 0,
      "outputs": [
        {
          "output_type": "execute_result",
          "data": {
            "text/plain": [
              "<matplotlib.axes._subplots.AxesSubplot at 0x7f803a756240>"
            ]
          },
          "metadata": {
            "tags": []
          },
          "execution_count": 6
        },
        {
          "output_type": "display_data",
          "data": {
            "image/png": "[encoded data removed]",
            "text/plain": [
              "<Figure size 432x288 with 1 Axes>"
            ]
          },
          "metadata": {
            "tags": [],
            "needs_background": "light"
          }
        }
      ]
    },
    {
      "cell_type": "markdown",
      "metadata": {
        "id": "L2bZzdyZWElc",
        "colab_type": "text"
      },
      "source": [
        "# 2 - Net's architecture\n"
      ]
    },
    {
      "cell_type": "code",
      "metadata": {
        "id": "URf6azx9mEGH",
        "colab_type": "code",
        "colab": {}
      },
      "source": [
        "class ReverseLayerF(Function):\n",
        "    @staticmethod\n",
        "    def forward(ctx, x, alpha):\n",
        "        ctx.alpha = alpha\n",
        "        return x.view_as(x)\n",
        "\n",
        "    @staticmethod\n",
        "    def backward(ctx, grad_output):\n",
        "        output = grad_output.neg() * ctx.alpha\n",
        "        return output, None\n",
        "\n",
        "__all__ = ['NetkWithReverseGrad', 'netkWithReverseGrad']\n",
        "\n",
        "\n",
        "class NetkWithReverseGrad(nn.Module):\n",
        "    def __init__(self, num_classes=1000):\n",
        "        super(NetkWithReverseGrad, self).__init__()\n",
        "        self.features = nn.Sequential(\n",
        "            nn.Conv2d(3, 64, kernel_size=11, stride=4, padding=2),\n",
        "            nn.ReLU(inplace=True),\n",
        "            nn.MaxPool2d(kernel_size=3, stride=2),\n",
        "            nn.Conv2d(64, 192, kernel_size=5, padding=2),\n",
        "            nn.ReLU(inplace=True),\n",
        "            nn.MaxPool2d(kernel_size=3, stride=2),\n",
        "            nn.Conv2d(192, 384, kernel_size=3, padding=1),\n",
        "            nn.ReLU(inplace=True),\n",
        "            nn.Conv2d(384, 256, kernel_size=3, padding=1),\n",
        "            nn.ReLU(inplace=True),\n",
        "            nn.Conv2d(256, 256, kernel_size=3, padding=1),\n",
        "            nn.ReLU(inplace=True),\n",
        "            nn.MaxPool2d(kernel_size=3, stride=2),\n",
        "        )\n",
        "        \n",
        "\n",
        "        self.avgpool = nn.AdaptiveAvgPool2d((6, 6))\n",
        "\n",
        "        self.class_classifier = nn.Sequential(\n",
        "            nn.Dropout(),\n",
        "            nn.Linear(256 * 6 * 6, 4096),\n",
        "            nn.ReLU(inplace=True),\n",
        "            nn.Dropout(),\n",
        "            nn.Linear(4096, 4096),\n",
        "            nn.ReLU(inplace=True),\n",
        "            nn.Linear(4096, num_classes),\n",
        "        )\n",
        "        \n",
        "\n",
        "        self.domain_classifier = nn.Sequential(\n",
        "            nn.Dropout(),\n",
        "            nn.Linear(256 * 6 * 6, 4096),\n",
        "            nn.ReLU(inplace=True),\n",
        "            nn.Dropout(),\n",
        "            nn.Linear(4096, 4096),\n",
        "            nn.ReLU(inplace=True),\n",
        "            nn.Linear(4096, num_classes),\n",
        "        )\n",
        "        \n",
        "\n",
        "    def forward(self, x, alpha=None):\n",
        "        x = self.features(x)\n",
        "        x = self.avgpool(x)\n",
        "        x = torch.flatten(x, 1)\n",
        "        if alpha is not None:\n",
        "            reverse_feature = ReverseLayerF.apply(x, alpha)\n",
        "            discriminator_output = self.domain_classifier(reverse_feature).cuda()\n",
        "            return discriminator_output\n",
        "        else:\n",
        "            class_outputs = self.class_classifier(x).cuda()\n",
        "            return class_outputs\n",
        "\n",
        "  \n",
        "def netkWithReverseGrad(pretrained=False, progress=True, **kwargs):\n",
        "  model = NetkWithReverseGrad(**kwargs)\n",
        "  if pretrained:\n",
        "    state_dict = load_state_dict_from_url('https://download.pytorch.org/models/alexnet-owt-4df8aa71.pth', progress=True)\n",
        "    model.load_state_dict(state_dict, strict=False)\n",
        "  return model"
      ],
      "execution_count": 0,
      "outputs": []
    },
    {
      "cell_type": "code",
      "metadata": {
        "id": "7yMU0XXKWI00",
        "colab_type": "code",
        "colab": {}
      },
      "source": [
        "NUM_CLASSES = 7\n",
        "net = netkWithReverseGrad(pretrained=True)\n",
        "net.class_classifier[6] = nn.Linear(4096, NUM_CLASSES)\n",
        "net.domain_classifier[6] = nn.Linear(4096, NUM_DOMAINS)\n",
        "net"
      ],
      "execution_count": 0,
      "outputs": []
    },
    {
      "cell_type": "code",
      "metadata": {
        "id": "tiKB_ohs81TS",
        "colab_type": "code",
        "colab": {}
      },
      "source": [
        "def test_net(best_net, test_dataloader, test_size, comment=None):\n",
        "\n",
        "  net = best_net.to(DEVICE) \n",
        "  net.train(False) \n",
        "\n",
        "  running_corrects = 0\n",
        "  for images, labels in tqdm(test_dataloader):\n",
        "    images = images.to(DEVICE)\n",
        "    labels = labels.to(DEVICE)\n",
        "\n",
        "    outputs = net(images)\n",
        "    _, preds = torch.max(outputs.data, 1)\n",
        "    running_corrects += torch.sum(preds == labels.data).data.item()\n",
        "\n",
        "\n",
        "  accuracy = running_corrects / float(test_size)\n",
        "  print('Test Accuracy: {}'.format(accuracy))\n",
        "  return accuracy"
      ],
      "execution_count": 0,
      "outputs": []
    },
    {
      "cell_type": "markdown",
      "metadata": {
        "id": "pVFvLBfqFxTb",
        "colab_type": "text"
      },
      "source": [
        "# 3A - Training and testing without domain adaptation"
      ]
    },
    {
      "cell_type": "code",
      "metadata": {
        "id": "2xgYwg6gFkdZ",
        "colab_type": "code",
        "colab": {}
      },
      "source": [
        "def train_net(net, comment, NUM_EPOCHS, BATCH_SIZE, max_batches, optimizer, criterion, scheduler, train_dataloader, test_dataloader, test_size):\n",
        "  net = net.to(DEVICE) \n",
        "  cudnn.benchmark \n",
        "\n",
        "  current_step = 0\n",
        "  best_accuracy = 0\n",
        "  running_corrects = 0\n",
        "  total_loss_array = np.zeros(NUM_EPOCHS)\n",
        "  accuracy_array = np.zeros(NUM_EPOCHS)\n",
        "\n",
        "  for epoch in range(NUM_EPOCHS):\n",
        "    for param_group in optimizer.param_groups:\n",
        "      lr = param_group['lr']\n",
        "    print('Starting epoch {}/{}, LR = {}'.format(epoch+1, NUM_EPOCHS, lr))\n",
        "    total_loss = 0\n",
        "    train_iter = iter(train_dataloader)\n",
        "   \n",
        "    \n",
        "    for phase in ['train', 'test']:\n",
        "      if phase == 'train':\n",
        "        try:\n",
        "          X_s, y_s = next(train_iter)\n",
        "        except:\n",
        "          # loader A needs to reset\n",
        "          train_iter = iter(train_dataloader)\n",
        "          X_s, y_s = next(train_iter)\n",
        "        optimizer.zero_grad()\n",
        "        net.train()\n",
        "        X_s = X_s.to(DEVICE)\n",
        "        y_s = y_s.to(DEVICE)\n",
        "        \n",
        "        outputs = net(X_s)\n",
        "        loss = criterion(outputs, y_s)\n",
        "        total_loss += loss.item()\n",
        "        loss.backward()  \n",
        "        optimizer.step() \n",
        "        current_step += 1\n",
        "        \n",
        "\n",
        "      else:\n",
        "        #validation or test on target\n",
        "        net.train(False)\n",
        "        running_corrects = 0\n",
        "        for X_t, y_t in test_dataloader:\n",
        "          X_t = X_t.to(DEVICE)\n",
        "          y_t = y_t.to(DEVICE)\n",
        "\n",
        "          outputs = net(X_t)\n",
        "          _, preds = torch.max(outputs.data, 1)\n",
        "          running_corrects += torch.sum(preds == y_t.data).data.item()\n",
        "    print('Total Loss {}'.format(total_loss))\n",
        "    accuracy = running_corrects / float(test_size)\n",
        "    total_loss_array[epoch] = total_loss\n",
        "    accuracy_array[epoch] = accuracy\n",
        "    print('Test Accuracy: {}'.format(accuracy))\n",
        "    scheduler.step()\n",
        "  return total_loss_array, accuracy_array"
      ],
      "execution_count": 0,
      "outputs": []
    },
    {
      "cell_type": "code",
      "metadata": {
        "id": "AouRs2ARIlG9",
        "colab_type": "code",
        "colab": {}
      },
      "source": [
        "BATCH_SIZE = 200\n",
        "photo_dataloader = DataLoader(photo_folder, batch_size=BATCH_SIZE,shuffle=True, num_workers=0, drop_last=True)\n",
        "art_painting_dataloader = DataLoader(art_painting_folder, batch_size=BATCH_SIZE,shuffle=True, num_workers=0, drop_last=True)\n",
        "\n",
        "LR = 8e-3           \n",
        "MOMENTUM = 0.9       \n",
        "WEIGHT_DECAY = 5e-5  \n",
        "NUM_EPOCHS = 20     \n",
        "STEP_SIZE = 10       \n",
        "GAMMA = 0.5       \n",
        "\n",
        "train_dataloader = photo_dataloader\n",
        "test_dataloader = art_painting_dataloader\n",
        "test_size = len(art_painting_folder)\n",
        "max_batches = len(train_dataloader)\n",
        "print(\"N. batches {}\".format(max_batches))\n",
        "\n",
        "net = netkWithReverseGrad(pretrained=True)\n",
        "net.class_classifier[6] = nn.Linear(4096, NUM_CLASSES)\n",
        "net.domain_classifier[6] = nn.Linear(4096, NUM_DOMAINS)\n",
        "\n",
        "criterion = nn.CrossEntropyLoss()\n",
        "optimizer = optim.SGD(net.parameters(), lr=LR, momentum=MOMENTUM, weight_decay=WEIGHT_DECAY)\n",
        "scheduler = optim.lr_scheduler.StepLR(optimizer, step_size=STEP_SIZE, gamma=GAMMA)\n",
        "\n",
        "tl_3a, aa_3a = train_net(net, \"\", NUM_EPOCHS, BATCH_SIZE, max_batches, optimizer, criterion, scheduler, train_dataloader, test_dataloader, test_size)"
      ],
      "execution_count": 0,
      "outputs": []
    },
    {
      "cell_type": "markdown",
      "metadata": {
        "id": "mzOVoDJZ9nxR",
        "colab_type": "text"
      },
      "source": [
        "# 3B - Training and testing with domain adaptation"
      ]
    },
    {
      "cell_type": "code",
      "metadata": {
        "id": "wGLm6FcwJQ2r",
        "colab_type": "code",
        "colab": {}
      },
      "source": [
        "def train_net_DANN(net, comment, alpha, NUM_EPOCHS, BATCH_SIZE, max_batches, optimizer, loss_class, loss_domain, scheduler, train_dataloader, test_dataloader):\n",
        "  net = net.to(DEVICE) \n",
        "  cudnn.benchmark \n",
        "\n",
        "  current_step = 0\n",
        "  best_accuracy = 0\n",
        "  total_loss_array = np.zeros(NUM_EPOCHS)\n",
        "  accuracy_array = np.zeros(NUM_EPOCHS)\n",
        "\n",
        "  for epoch in range(NUM_EPOCHS):\n",
        "    total_loss = 0\n",
        "    for param_group in optimizer.param_groups:\n",
        "      lr = param_group['lr']\n",
        "    print('Starting epoch {}/{}, LR = {}'.format(epoch+1, NUM_EPOCHS, lr))\n",
        "    train_iter = iter(train_dataloader)\n",
        "    test_iter = iter(test_dataloader)\n",
        "\n",
        "    #SOURCE GY\n",
        "    # Train on source domain (labels)\n",
        "    optimizer.zero_grad()\n",
        "    \n",
        "    net.train()\n",
        "    try:\n",
        "      X_s, y_s = next(train_iter)\n",
        "    except:\n",
        "      # loader A needs to reset\n",
        "      train_iter = iter(train_dataloader)\n",
        "      X_s, y_s = next(train_iter)\n",
        "    X_s = X_s.to(DEVICE)\n",
        "    y_s = y_s.to(DEVICE)\n",
        "    outputs_s_labels = net(X_s)\n",
        "    outputs_s_labels = outputs_s_labels.to(DEVICE)\n",
        "    loss_s_label = loss_class(outputs_s_labels, y_s)\n",
        "\n",
        "    #SOURCE GD\n",
        "    # Train on source domain (domains)\n",
        "    outputs_s_domain = net(X_s, alpha=alpha)\n",
        "    outputs_s_domain = outputs_s_domain.to(DEVICE)\n",
        "    y_s_domain = torch.zeros(BATCH_SIZE, dtype=torch.long) # generate source domain labels\n",
        "    y_s_domain = y_s_domain.to(DEVICE)\n",
        "    loss_s_domain = loss_domain(outputs_s_domain, y_s_domain) \n",
        "    \n",
        "    #TARGET GD\n",
        "    # Test on target domain (domains)\n",
        "    X_t, _ = next(test_iter)\n",
        "    X_t = X_t.to(DEVICE)\n",
        "    y_t_domain = torch.ones(BATCH_SIZE, dtype=torch.long) # generate target domain labels\n",
        "    y_t_domain = y_t_domain.to(DEVICE)\n",
        "    domain_pred = net(X_t, alpha=alpha)\n",
        "    domain_pred = domain_pred.to(DEVICE)\n",
        "    loss_t_domain = loss_domain(domain_pred, y_t_domain)\n",
        "    sum_loss = loss_t_domain + loss_s_domain + loss_s_label\n",
        "    sum_loss.backward()  \n",
        "    total_loss += sum_loss.item()\n",
        "    optimizer.step() \n",
        "    current_step += 1\n",
        "    accuracy = test_net(net, test_dataloader, test_size)\n",
        "    total_loss_array[epoch] = total_loss\n",
        "    accuracy_array[epoch] = accuracy\n",
        "    print('Total Loss {}'.format(total_loss))\n",
        "    if scheduler != \"None\":\n",
        "      scheduler.step() \n",
        "  return total_loss_array, accuracy_array"
      ],
      "execution_count": 0,
      "outputs": []
    },
    {
      "cell_type": "code",
      "metadata": {
        "id": "gy9LxgAWrC_U",
        "colab_type": "code",
        "colab": {}
      },
      "source": [
        "BATCH_SIZE = 200\n",
        "photo_dataloader = DataLoader(photo_folder, batch_size=BATCH_SIZE,shuffle=True, num_workers=0, drop_last=True)\n",
        "art_painting_dataloader = DataLoader(art_painting_folder, batch_size=BATCH_SIZE,shuffle=True, num_workers=0, drop_last=True)\n",
        "\n",
        "LR = 1e-3          \n",
        "MOMENTUM = 0.9       \n",
        "WEIGHT_DECAY = 5e-5  \n",
        "NUM_EPOCHS = 30         \n",
        "GAMMA = 0.25\n",
        "STEP_SIZE = 8    \n",
        "alpha = 0.08\n",
        "\n",
        "train_dataloader = photo_dataloader\n",
        "test_dataloader = art_painting_dataloader\n",
        "test_size = len(art_painting_folder)\n",
        "max_batches = len(train_dataloader)\n",
        "print(\"N. batches {}\".format(max_batches))\n",
        "\n",
        "net = netkWithReverseGrad(pretrained=True)\n",
        "net.class_classifier[6] = nn.Linear(4096, NUM_CLASSES)\n",
        "net.domain_classifier[6] = nn.Linear(4096, NUM_DOMAINS)\n",
        "\n",
        "loss_class = nn.CrossEntropyLoss()\n",
        "loss_domain = nn.CrossEntropyLoss()\n",
        "optimizer = optim.SGD(net.parameters(), lr=LR, momentum=MOMENTUM, weight_decay=WEIGHT_DECAY)\n",
        "scheduler = optim.lr_scheduler.StepLR(optimizer, step_size=STEP_SIZE, gamma=GAMMA)\n",
        "\n",
        "tl_3b, aa_3b = train_net_DANN(net, \"\", alpha, NUM_EPOCHS, BATCH_SIZE, max_batches, optimizer, loss_class, loss_domain, scheduler, train_dataloader, test_dataloader)"
      ],
      "execution_count": 0,
      "outputs": []
    },
    {
      "cell_type": "code",
      "metadata": {
        "id": "2fbtrS14mQVz",
        "colab_type": "code",
        "outputId": "1996308c-9647-4f24-c0be-d521327442c1",
        "colab": {
          "base_uri": "https://localhost:8080/",
          "height": 497
        }
      },
      "source": [
        "#PLOT TOTAL LOSS\n",
        "plt.figure(figsize=(10, 8))\n",
        "plt.plot(np.arange(20), tl_3a, '-ob')\n",
        "plt.plot(np.arange(30), tl_3b, '-og')\n",
        "plt.xlabel('Epoch')\n",
        "plt.ylabel('Total loss')\n",
        "plt.show()"
      ],
      "execution_count": 0,
      "outputs": [
        {
          "output_type": "display_data",
          "data": {
            "image/png": "[encoded data removed]",
            "text/plain": [
              "<Figure size 720x576 with 1 Axes>"
            ]
          },
          "metadata": {
            "tags": [],
            "needs_background": "light"
          }
        }
      ]
    },
    {
      "cell_type": "code",
      "metadata": {
        "id": "onlyaz9XmuBO",
        "colab_type": "code",
        "outputId": "141f1179-a808-481b-aefd-4874a14d8917",
        "colab": {
          "base_uri": "https://localhost:8080/",
          "height": 500
        }
      },
      "source": [
        "#PLOT ACCURACY\n",
        "plt.figure(figsize=(10, 8))\n",
        "plt.plot(np.arange(20), aa_3a, '-ob')\n",
        "#plt.plot(20, accuracy_test_3_2_1, '*b')\n",
        "plt.plot(np.arange(30), aa_3b, '-og')\n",
        "#plt.plot(20, accuracy_test_3_2_2, '*g')\n",
        "plt.xlabel('Epoch')\n",
        "plt.ylabel('Accuracy')\n",
        "plt.show()"
      ],
      "execution_count": 0,
      "outputs": [
        {
          "output_type": "display_data",
          "data": {
            "image/png": "[encoded data removed]",
            "text/plain": [
              "<Figure size 720x576 with 1 Axes>"
            ]
          },
          "metadata": {
            "tags": [],
            "needs_background": "light"
          }
        }
      ]
    },
    {
      "cell_type": "markdown",
      "metadata": {
        "id": "piTsMBvXObNd",
        "colab_type": "text"
      },
      "source": [
        "# 4A, 4B - Photo to Cartoon and Photo to Sketch, without Domain Adaptation, implement 3A with the best hyperparameters found in 4A"
      ]
    },
    {
      "cell_type": "code",
      "metadata": {
        "id": "rJsiYaWbxzJK",
        "colab_type": "code",
        "colab": {}
      },
      "source": [
        "def train_val_net(net, comment, NUM_EPOCHS, BATCH_SIZE, max_batches, optimizer, criterion, scheduler, photo_dataloader, sketch_dataloader, cartoon_dataloader,size_sketch, size_cartoon):\n",
        "  net = net.to(DEVICE) \n",
        "  cudnn.benchmark \n",
        "\n",
        "  current_step = 0\n",
        "  best_accuracy = 0\n",
        "  running_corrects = 0\n",
        "  total_loss_array = np.zeros(NUM_EPOCHS)\n",
        "  accuracy_array = np.zeros(NUM_EPOCHS)\n",
        "  accuracy1_array = np.zeros(NUM_EPOCHS)\n",
        "  accuracy2_array = np.zeros(NUM_EPOCHS)\n",
        "\n",
        "  for epoch in range(NUM_EPOCHS):\n",
        "    for param_group in optimizer.param_groups:\n",
        "      lr = param_group['lr']\n",
        "    print('Starting epoch {}/{}, LR = {}'.format(epoch+1, NUM_EPOCHS, lr))\n",
        "    running_loss = 0\n",
        "    train_iter = iter(photo_dataloader)\n",
        "   \n",
        "    for phase in ['train', 'test']:\n",
        "      if phase == 'train':\n",
        "        try:\n",
        "          X_s, y_s = next(train_iter)\n",
        "        except:\n",
        "          # loader A needs to reset\n",
        "          train_iter = iter(photo_dataloader)\n",
        "          X_s, y_s = next(train_iter)\n",
        "        optimizer.zero_grad()\n",
        "        net.train()\n",
        "        X_s = X_s.to(DEVICE)\n",
        "        y_s = y_s.to(DEVICE)\n",
        "        \n",
        "        outputs = net(X_s)\n",
        "        loss = criterion(outputs, y_s)\n",
        "        running_loss += outputs.shape[0] * loss.item()\n",
        "        loss.backward()  \n",
        "        optimizer.step() \n",
        "        current_step += 1\n",
        "        \n",
        "\n",
        "      else:\n",
        "        #validation or test on target\n",
        "        net.train(False)\n",
        "        running_corrects_s = 0\n",
        "        running_corrects_c = 0\n",
        "        for X_v1, y_v1 in sketch_dataloader:\n",
        "          X_v1 = X_v1.to(DEVICE)\n",
        "          y_v1 = y_v1.to(DEVICE)\n",
        "\n",
        "          outputs = net(X_v1)\n",
        "          _, preds = torch.max(outputs.data, 1)\n",
        "          running_corrects_s += torch.sum(preds == y_v1.data).data.item()\n",
        "        for X_v2, y_v2 in cartoon_dataloader:\n",
        "          X_v2 = X_v2.to(DEVICE)\n",
        "          y_v2 = y_v2.to(DEVICE)\n",
        "\n",
        "          outputs = net(X_v2)\n",
        "          _, preds = torch.max(outputs.data, 1)\n",
        "          running_corrects_c += torch.sum(preds == y_v2.data).data.item()\n",
        "\n",
        "\n",
        "    epoch_loss = running_loss / len(photo_dataloader)\n",
        "    print('Epoch Loss {}'.format(epoch_loss))\n",
        "    accuracy_s = running_corrects_s / float(size_sketch)\n",
        "    accuracy_c = running_corrects_c / float(size_cartoon)\n",
        "    mean_acc = (accuracy_s + accuracy_c) / 2\n",
        "    if mean_acc > best_accuracy:\n",
        "      best_accuracy = mean_acc\n",
        "      best_net = type(net)()\n",
        "      best_net.class_classifier[6] = nn.Linear(4096, NUM_CLASSES)\n",
        "      best_net.domain_classifier[6] = nn.Linear(4096, NUM_DOMAINS)\n",
        "      best_net.load_state_dict(net.state_dict()) \n",
        "\n",
        "    total_loss_array[epoch] = epoch_loss\n",
        "    accuracy_array[epoch] = mean_acc\n",
        "    accuracy1_array[epoch] = accuracy_s\n",
        "    accuracy2_array[epoch] = accuracy_c\n",
        "    print('Validation Accuracy sketch: {}, Validation Accuracy cartoon {}, Mean {} '.format(accuracy_s, accuracy_c, mean_acc))\n",
        "    scheduler.step()\n",
        "  return best_net, total_loss_array, accuracy_array, accuracy1_array, accuracy2_array"
      ],
      "execution_count": 0,
      "outputs": []
    },
    {
      "cell_type": "code",
      "metadata": {
        "id": "OsA9R3250N0P",
        "colab_type": "code",
        "outputId": "de25adf6-b44b-43f4-ae4e-3d8ce787065a",
        "colab": {
          "base_uri": "https://localhost:8080/",
          "height": 69
        }
      },
      "source": [
        "BATCH_SIZE = 200\n",
        "photo_dataloader = DataLoader(photo_folder, batch_size=BATCH_SIZE,shuffle=True, num_workers=0, drop_last=True)\n",
        "sketch_dataloader = DataLoader(sketch_folder, batch_size=BATCH_SIZE,shuffle=True, num_workers=0)\n",
        "cartoon_dataloader = DataLoader(cartoon_folder, batch_size=BATCH_SIZE,shuffle=True, num_workers=0)\n",
        "art_painting_dataloader = DataLoader(art_painting_folder, batch_size=BATCH_SIZE,shuffle=True, num_workers=0, drop_last=True)\n",
        "size_sketch = len(sketch_folder)\n",
        "size_cartoon = len(cartoon_folder)\n",
        "test_size = len(art_painting_folder)\n",
        "print(\"Size sketch {}\".format(size_sketch))\n",
        "print(\"Size cartoon {}\".format(size_cartoon))\n",
        "\n",
        "max_batches = max(len(photo_dataloader), len(sketch_dataloader))\n",
        "max_batches = max(max_batches, len(cartoon_dataloader))\n",
        "print(\"N. batches {}\".format(max_batches))"
      ],
      "execution_count": 0,
      "outputs": [
        {
          "output_type": "stream",
          "text": [
            "Size sketch 3929\n",
            "Size cartoon 2344\n",
            "N. batches 20\n"
          ],
          "name": "stdout"
        }
      ]
    },
    {
      "cell_type": "code",
      "metadata": {
        "id": "AzWo3Fs5O-yc",
        "colab_type": "code",
        "colab": {}
      },
      "source": [
        "LR = 8e-3           \n",
        "MOMENTUM = 0.9       \n",
        "WEIGHT_DECAY = 5e-5  \n",
        "NUM_EPOCHS = 25     \n",
        "STEP_SIZE = 20       \n",
        "GAMMA = 0.5    \n",
        "\n",
        "net = netkWithReverseGrad(pretrained=True)\n",
        "net.class_classifier[6] = nn.Linear(4096, NUM_CLASSES)\n",
        "net.domain_classifier[6] = nn.Linear(4096, NUM_DOMAINS)\n",
        "\n",
        "criterion = nn.CrossEntropyLoss()\n",
        "optimizer = optim.SGD(net.parameters(), lr=LR, momentum=MOMENTUM, weight_decay=WEIGHT_DECAY)\n",
        "scheduler = optim.lr_scheduler.StepLR(optimizer, step_size=STEP_SIZE, gamma=GAMMA)\n",
        "\n",
        "best_net, total_loss_array, mean_accuracy_array, accuracy1_array, accuracy2_array  = train_val_net(net, \"\", NUM_EPOCHS, BATCH_SIZE, max_batches, optimizer, criterion, scheduler, photo_dataloader, sketch_dataloader, cartoon_dataloader, size_sketch, size_cartoon)\n",
        "accuracy = test_net(best_net, art_painting_dataloader, test_size)\n",
        "print(\"Total loss array {}\".format(total_loss_array))\n",
        "print(\"Mean accuracy array {}\".format(mean_accuracy_array))\n",
        "print(\"Validation Accuracy on sketch {}\".format(accuracy1_array))\n",
        "print(\"Validation Accuracy on cartoon {}\".format(accuracy2_array))\n",
        "print(\"TAccuracy test {}\".format(accuracy))"
      ],
      "execution_count": 0,
      "outputs": []
    },
    {
      "cell_type": "code",
      "metadata": {
        "id": "Qymqnr9OYYCO",
        "colab_type": "code",
        "colab": {}
      },
      "source": [
        "LR = 2e-3           \n",
        "MOMENTUM = 0.9       \n",
        "WEIGHT_DECAY = 5e-5  \n",
        "NUM_EPOCHS = 40     \n",
        "STEP_SIZE = 10       \n",
        "GAMMA = 0.5    \n",
        "\n",
        "net = netkWithReverseGrad(pretrained=True)\n",
        "net.class_classifier[6] = nn.Linear(4096, NUM_CLASSES)\n",
        "net.domain_classifier[6] = nn.Linear(4096, NUM_DOMAINS)\n",
        "\n",
        "criterion = nn.CrossEntropyLoss()\n",
        "optimizer = optim.SGD(net.parameters(), lr=LR, momentum=MOMENTUM, weight_decay=WEIGHT_DECAY)\n",
        "scheduler = optim.lr_scheduler.StepLR(optimizer, step_size=STEP_SIZE, gamma=GAMMA)\n",
        "\n",
        "best_net, total_loss_array_1, mean_accuracy_array_1, accuracy1_array_1, accuracy2_array_1  = train_val_net(net, \"\", NUM_EPOCHS, BATCH_SIZE, max_batches, optimizer, criterion, scheduler, photo_dataloader, sketch_dataloader, cartoon_dataloader, size_sketch, size_cartoon)\n",
        "accuracy_1 = test_net(best_net, art_painting_dataloader, test_size)\n",
        "print(\"Total loss array {}\".format(total_loss_array_1))\n",
        "print(\"Mean accuracy array {}\".format(mean_accuracy_array_1))\n",
        "print(\"Validation Accuracy on sketch {}\".format(accuracy1_array_1))\n",
        "print(\"Validation Accuracy on cartoon {}\".format(accuracy2_array_1))\n",
        "print(\"TAccuracy test {}\".format(accuracy_1))"
      ],
      "execution_count": 0,
      "outputs": []
    },
    {
      "cell_type": "code",
      "metadata": {
        "id": "y65vvNsgswwx",
        "colab_type": "code",
        "colab": {}
      },
      "source": [
        "LR = 8e-3           \n",
        "MOMENTUM = 0.9       \n",
        "WEIGHT_DECAY = 5e-5  \n",
        "NUM_EPOCHS = 25  \n",
        "STEP_SIZE = 10       \n",
        "GAMMA = 0.5       \n",
        "\n",
        "net = netkWithReverseGrad(pretrained=True)\n",
        "net.class_classifier[6] = nn.Linear(4096, NUM_CLASSES)\n",
        "net.domain_classifier[6] = nn.Linear(4096, NUM_DOMAINS)\n",
        "\n",
        "criterion = nn.CrossEntropyLoss()\n",
        "optimizer = optim.SGD(net.parameters(), lr=LR, momentum=MOMENTUM, weight_decay=WEIGHT_DECAY)\n",
        "scheduler = optim.lr_scheduler.StepLR(optimizer, step_size=STEP_SIZE, gamma=GAMMA)\n",
        "\n",
        "best_net, total_loss_array_2, mean_accuracy_array_2, accuracy1_array_2, accuracy2_array_2  = train_val_net(net, \"\", NUM_EPOCHS, BATCH_SIZE, max_batches, optimizer, criterion, scheduler, photo_dataloader, sketch_dataloader, cartoon_dataloader, size_sketch, size_cartoon)\n",
        "accuracy_2 = test_net(best_net, art_painting_dataloader, test_size)\n",
        "print(\"Total loss array {}\".format(total_loss_array_2))\n",
        "print(\"Mean accuracy array {}\".format(mean_accuracy_array_2))\n",
        "print(\"Validation Accuracy on sketch {}\".format(accuracy1_array_2))\n",
        "print(\"Validation Accuracy on cartoon {}\".format(accuracy2_array_2))\n",
        "print(\"TAccuracy test {}\".format(accuracy_2))"
      ],
      "execution_count": 0,
      "outputs": []
    },
    {
      "cell_type": "code",
      "metadata": {
        "id": "43nXCS51ofiR",
        "colab_type": "code",
        "colab": {}
      },
      "source": [
        "LR = 4e-3           \n",
        "MOMENTUM = 0.9       \n",
        "WEIGHT_DECAY = 5e-5  \n",
        "NUM_EPOCHS = 25  \n",
        "STEP_SIZE = 20       \n",
        "GAMMA = 0.5       \n",
        "\n",
        "net = netkWithReverseGrad(pretrained=True)\n",
        "net.class_classifier[6] = nn.Linear(4096, NUM_CLASSES)\n",
        "net.domain_classifier[6] = nn.Linear(4096, NUM_DOMAINS)\n",
        "\n",
        "criterion = nn.CrossEntropyLoss()\n",
        "optimizer = optim.SGD(net.parameters(), lr=LR, momentum=MOMENTUM, weight_decay=WEIGHT_DECAY)\n",
        "scheduler = optim.lr_scheduler.StepLR(optimizer, step_size=STEP_SIZE, gamma=GAMMA)\n",
        "\n",
        "best_net, total_loss_array_3, mean_accuracy_array_3, accuracy1_array_3, accuracy2_array_3 = train_val_net(net, \"\", NUM_EPOCHS, BATCH_SIZE, max_batches, optimizer, criterion, scheduler, photo_dataloader, sketch_dataloader, cartoon_dataloader, size_sketch, size_cartoon)\n",
        "accuracy_3 = test_net(best_net, art_painting_dataloader, test_size)\n",
        "print(\"Total loss array {}\".format(total_loss_array_3))\n",
        "print(\"Mean accuracy array {}\".format(mean_accuracy_array_3))\n",
        "print(\"Validation Accuracy on sketch {}\".format(accuracy1_array_3))\n",
        "print(\"Validation Accuracy on cartoon {}\".format(accuracy2_array_3))\n",
        "print(\"TAccuracy test {}\".format(accuracy_3))"
      ],
      "execution_count": 0,
      "outputs": []
    },
    {
      "cell_type": "code",
      "metadata": {
        "id": "ol1QLRy6I3vA",
        "colab_type": "code",
        "colab": {}
      },
      "source": [
        "LR = 4e-3           \n",
        "MOMENTUM = 0.9       \n",
        "WEIGHT_DECAY = 5e-5  \n",
        "NUM_EPOCHS = 25  \n",
        "STEP_SIZE = 10       \n",
        "GAMMA = 0.1       \n",
        "\n",
        "net = netkWithReverseGrad(pretrained=True)\n",
        "net.class_classifier[6] = nn.Linear(4096, NUM_CLASSES)\n",
        "net.domain_classifier[6] = nn.Linear(4096, NUM_DOMAINS)\n",
        "\n",
        "criterion = nn.CrossEntropyLoss()\n",
        "optimizer = optim.SGD(net.parameters(), lr=LR, momentum=MOMENTUM, weight_decay=WEIGHT_DECAY)\n",
        "scheduler = optim.lr_scheduler.StepLR(optimizer, step_size=STEP_SIZE, gamma=GAMMA)\n",
        "\n",
        "best_net, total_loss_array_4, mean_accuracy_array_4, accuracy1_array_4, accuracy2_array_4 = train_val_net(net, \"\", NUM_EPOCHS, BATCH_SIZE, max_batches, optimizer, criterion, scheduler, photo_dataloader, sketch_dataloader, cartoon_dataloader, size_sketch, size_cartoon)\n",
        "accuracy_4 = test_net(best_net, art_painting_dataloader, test_size)\n",
        "print(\"Total loss array {}\".format(total_loss_array_4))\n",
        "print(\"Mean accuracy array {}\".format(mean_accuracy_array_4))\n",
        "print(\"Validation Accuracy on sketch {}\".format(accuracy1_array_4))\n",
        "print(\"Validation Accuracy on cartoon {}\".format(accuracy2_array_4))\n",
        "print(\"TAccuracy test {}\".format(accuracy_4))"
      ],
      "execution_count": 0,
      "outputs": []
    },
    {
      "cell_type": "code",
      "metadata": {
        "id": "1XE112tyI4TS",
        "colab_type": "code",
        "colab": {}
      },
      "source": [
        "LR = 8e-2           \n",
        "MOMENTUM = 0.9       \n",
        "WEIGHT_DECAY = 5e-5  \n",
        "NUM_EPOCHS = 25  \n",
        "STEP_SIZE = 20       \n",
        "GAMMA = 0.5       \n",
        "\n",
        "net = netkWithReverseGrad(pretrained=True)\n",
        "net.class_classifier[6] = nn.Linear(4096, NUM_CLASSES)\n",
        "net.domain_classifier[6] = nn.Linear(4096, NUM_DOMAINS)\n",
        "\n",
        "criterion = nn.CrossEntropyLoss()\n",
        "optimizer = optim.SGD(net.parameters(), lr=LR, momentum=MOMENTUM, weight_decay=WEIGHT_DECAY)\n",
        "scheduler = optim.lr_scheduler.StepLR(optimizer, step_size=STEP_SIZE, gamma=GAMMA)\n",
        "\n",
        "best_net, total_loss_array_5, mean_accuracy_array_5, accuracy1_array_5, accuracy2_array_5 = train_val_net(net, \"\", NUM_EPOCHS, BATCH_SIZE, max_batches, optimizer, criterion, scheduler, photo_dataloader, sketch_dataloader, cartoon_dataloader, size_sketch, size_cartoon)\n",
        "accuracy_5 = test_net(best_net, art_painting_dataloader, test_size)\n",
        "print(\"Total loss array {}\".format(total_loss_array_5))\n",
        "print(\"Mean accuracy array {}\".format(mean_accuracy_array_5))\n",
        "print(\"Validation Accuracy on sketch {}\".format(accuracy1_array_5))\n",
        "print(\"Validation Accuracy on cartoon {}\".format(accuracy2_array_5))\n",
        "print(\"TAccuracy test {}\".format(accuracy_5))"
      ],
      "execution_count": 0,
      "outputs": []
    },
    {
      "cell_type": "code",
      "metadata": {
        "id": "0vZ9KU1wNFeQ",
        "colab_type": "code",
        "colab": {}
      },
      "source": [
        "#PLOT TOTAL LOSS\n",
        "plt.figure(figsize=(10, 8))\n",
        "plt.plot(np.arange(25), total_loss_array, '-ob')\n",
        "plt.plot(np.arange(25), total_loss_array_1, '-og')\n",
        "plt.plot(np.arange(25), total_loss_array_2, '-or')\n",
        "plt.plot(np.arange(25), total_loss_array_3, '-om')\n",
        "plt.plot(np.arange(25), total_loss_array_4, '-oy')\n",
        "plt.xlabel('Epoch')\n",
        "plt.ylabel('Total loss')\n",
        "plt.show()"
      ],
      "execution_count": 0,
      "outputs": []
    },
    {
      "cell_type": "code",
      "metadata": {
        "id": "kAXDsxYKNu-u",
        "colab_type": "code",
        "colab": {}
      },
      "source": [
        "#PLOT MEAN ACC ARRAY\n",
        "plt.figure(figsize=(10, 8))\n",
        "plt.plot(np.arange(25), mean_accuracy_array, '-ob')\n",
        "plt.plot(np.arange(25), mean_accuracy_array_1, '-og')\n",
        "plt.plot(np.arange(25), mean_accuracy_array_2, '-or')\n",
        "plt.plot(np.arange(25), mean_accuracy_array_3, '-om')\n",
        "plt.plot(np.arange(25), mean_accuracy_array_4, '-oy')\n",
        "plt.plot(25, accuracy, '-ob')\n",
        "plt.plot(25, accuracy_1, '-og')\n",
        "plt.plot(25, accuracy_2, '-or')\n",
        "plt.plot(25, accuracy_3, '-om')\n",
        "plt.plot(25, accuracy_4, '-oy')\n",
        "plt.xlabel('Epoch')\n",
        "plt.ylabel('Mean of the validation accuracies')\n",
        "plt.show()"
      ],
      "execution_count": 0,
      "outputs": []
    },
    {
      "cell_type": "code",
      "metadata": {
        "id": "H2BHoN6ON8Yg",
        "colab_type": "code",
        "colab": {}
      },
      "source": [
        "#PLOT SKETCH ACC ARRAY\n",
        "plt.figure(figsize=(10, 8))\n",
        "plt.plot(np.arange(25), accuracy1_array, '-ob')\n",
        "plt.plot(np.arange(25), accuracy1_array_1, '-og')\n",
        "plt.plot(np.arange(25), accuracy1_array_2, '-or')\n",
        "plt.plot(np.arange(25), accuracy1_array_3, '-om')\n",
        "plt.plot(np.arange(25), accuracy1_array_4, '-oy')\n",
        "plt.xlabel('Epoch')\n",
        "plt.ylabel('Sketch validation accuracy')\n",
        "plt.show()"
      ],
      "execution_count": 0,
      "outputs": []
    },
    {
      "cell_type": "code",
      "metadata": {
        "id": "HxImZBpnOEwn",
        "colab_type": "code",
        "colab": {}
      },
      "source": [
        "#PLOT CARTOON ACC ARRAY\n",
        "plt.figure(figsize=(10, 8))\n",
        "plt.plot(np.arange(25), accuracy2_array, '-ob')\n",
        "plt.plot(np.arange(25), accuracy2_array_1, '-og')\n",
        "plt.plot(np.arange(25), accuracy2_array_2, '-or')\n",
        "plt.plot(np.arange(25), accuracy2_array_3, '-om')\n",
        "plt.plot(np.arange(25), accuracy2_array_4, '-oy')\n",
        "plt.xlabel('Epoch')\n",
        "plt.ylabel('Cartoon validation accuracy')\n",
        "plt.show()"
      ],
      "execution_count": 0,
      "outputs": []
    },
    {
      "cell_type": "markdown",
      "metadata": {
        "id": "qeGUjcmwOlaH",
        "colab_type": "text"
      },
      "source": [
        "# 4C, 4D - Photo to Cartoon and Photo to Sketch, with Domain Adaptation, Implement 3B with the best hyperparameters found in 4C"
      ]
    },
    {
      "cell_type": "code",
      "metadata": {
        "id": "fhTNychOeefs",
        "colab_type": "code",
        "colab": {}
      },
      "source": [
        "def train_val_net_DANN(net, comment, alpha, NUM_EPOCHS, BATCH_SIZE, max_batches, optimizer, loss_class, loss_domain, scheduler, train_dataloader, val_dataloader,size_val):\n",
        "  net = net.to(DEVICE) \n",
        "  cudnn.benchmark \n",
        "  current_step = 0\n",
        "  best_accuracy = 0\n",
        "  total_loss_array = np.zeros(NUM_EPOCHS)\n",
        "  accuracy_array = np.zeros(NUM_EPOCHS)\n",
        "\n",
        "  for epoch in range(NUM_EPOCHS):\n",
        "    running_loss = 0\n",
        "    for param_group in optimizer.param_groups:\n",
        "      lr = param_group['lr']\n",
        "    print('Starting epoch {}/{}, LR = {}'.format(epoch+1, NUM_EPOCHS, lr))\n",
        "    train_iter = iter(train_dataloader)\n",
        "    val_iter = iter(val_dataloader)\n",
        "    for phase in ['train', 'test']:\n",
        "\n",
        "      if phase == 'train':\n",
        "        #SOURCE GY\n",
        "        # Train on source domain (labels)\n",
        "        optimizer.zero_grad()\n",
        "        \n",
        "        net.train()\n",
        "        try:\n",
        "          X_s, y_s = next(train_iter)\n",
        "        except:\n",
        "          # loader A needs to reset\n",
        "          train_iter = iter(train_dataloader)\n",
        "          X_s, y_s = next(train_iter)\n",
        "        X_s = X_s.to(DEVICE)\n",
        "        y_s = y_s.to(DEVICE)\n",
        "        outputs_s_labels = net(X_s)\n",
        "        outputs_s_labels = outputs_s_labels.to(DEVICE)\n",
        "        loss_s_label = loss_class(outputs_s_labels, y_s)\n",
        "        #running_loss += outputs.shape[0] * loss.item()\n",
        "\n",
        "        #SOURCE GD\n",
        "        # Train on source domain (domains)\n",
        "        outputs_s_domain = net(X_s, alpha=alpha)\n",
        "        outputs_s_domain = outputs_s_domain.to(DEVICE)\n",
        "        y_s_domain = torch.zeros(BATCH_SIZE, dtype=torch.long) # generate source domain labels\n",
        "        y_s_domain = y_s_domain.to(DEVICE)\n",
        "        loss_s_domain = loss_domain(outputs_s_domain, y_s_domain) \n",
        "        \n",
        "        #TARGET GD\n",
        "        # Test on target domain (domains)\n",
        "        X_t, _ = next(val_iter)\n",
        "        X_t = X_t.to(DEVICE)\n",
        "        y_t_domain = torch.ones(BATCH_SIZE, dtype=torch.long) # generate target domain labels\n",
        "        y_t_domain = y_t_domain.to(DEVICE)\n",
        "        domain_pred = net(X_t, alpha=alpha)\n",
        "        domain_pred = domain_pred.to(DEVICE)\n",
        "        loss_t_domain = loss_domain(domain_pred, y_t_domain)\n",
        "        sum_loss = loss_t_domain + loss_s_domain + loss_s_label\n",
        "        sum_loss.backward()  \n",
        "        #epoch_loss = running_loss / len(train_dataloader)\n",
        "        #total_loss += sum_loss.item()\n",
        "        optimizer.step() \n",
        "        current_step += 1\n",
        "      \n",
        "      else:\n",
        "        net.train(False)\n",
        "        running_corrects = 0\n",
        "        for X_v, y_v in sketch_dataloader:\n",
        "          X_v = X_v.to(DEVICE)\n",
        "          y_v = y_v.to(DEVICE)\n",
        "\n",
        "          outputs = net(X_v)\n",
        "          _, preds = torch.max(outputs.data, 1)\n",
        "          running_corrects += torch.sum(preds == y_v.data).data.item()\n",
        "\n",
        "    accuracy = running_corrects/ float(size_val)\n",
        "    if accuracy > best_accuracy:\n",
        "      best_accuracy = accuracy\n",
        "      best_net = type(net)()\n",
        "      best_net.class_classifier[6] = nn.Linear(4096, NUM_CLASSES)\n",
        "      best_net.domain_classifier[6] = nn.Linear(4096, NUM_DOMAINS)\n",
        "      best_net.load_state_dict(net.state_dict()) \n",
        "\n",
        "    total_loss_array[epoch] = sum_loss\n",
        "    accuracy_array[epoch] = accuracy\n",
        "    print('Total Loss {}, Loss Source label {}, Loss source domain {} Loss Target domain {}'.format(sum_loss, loss_s_label, loss_s_domain, loss_t_domain))\n",
        "    print('Validation Accuracy: {}'.format(accuracy))\n",
        "    scheduler.step() \n",
        "  \n",
        "  return total_loss_array, accuracy_array, best_accuracy\n",
        "    "
      ],
      "execution_count": 0,
      "outputs": []
    },
    {
      "cell_type": "code",
      "metadata": {
        "id": "xjFRrA2BFOck",
        "colab_type": "code",
        "outputId": "e54cb923-7bfe-4a29-83d5-c423b431db8d",
        "colab": {
          "base_uri": "https://localhost:8080/",
          "height": 69
        }
      },
      "source": [
        "BATCH_SIZE = 200\n",
        "photo_dataloader = DataLoader(photo_folder, batch_size=BATCH_SIZE,shuffle=True, num_workers=0, drop_last=True)\n",
        "sketch_dataloader = DataLoader(sketch_folder, batch_size=BATCH_SIZE,shuffle=True, num_workers=0)\n",
        "cartoon_dataloader = DataLoader(cartoon_folder, batch_size=BATCH_SIZE,shuffle=True, num_workers=0)\n",
        "art_painting_dataloader = DataLoader(art_painting_folder, batch_size=BATCH_SIZE,shuffle=True, num_workers=0, drop_last=True)\n",
        "size_sketch = len(sketch_folder)\n",
        "size_cartoon = len(cartoon_folder)\n",
        "test_size = len(art_painting_folder)\n",
        "print(\"Size sketch {}\".format(size_sketch))\n",
        "print(\"Size cartoon {}\".format(size_cartoon))\n",
        "\n",
        "max_batches = max(len(photo_dataloader), len(sketch_dataloader))\n",
        "max_batches = max(max_batches, len(cartoon_dataloader))\n",
        "print(\"N. batches {}\".format(max_batches))"
      ],
      "execution_count": 0,
      "outputs": [
        {
          "output_type": "stream",
          "text": [
            "Size sketch 3929\n",
            "Size cartoon 2344\n",
            "N. batches 20\n"
          ],
          "name": "stdout"
        }
      ]
    },
    {
      "cell_type": "code",
      "metadata": {
        "id": "T5dvgeNa436P",
        "colab_type": "code",
        "colab": {}
      },
      "source": [
        "LR = 5e-3           \n",
        "MOMENTUM = 0.9       \n",
        "WEIGHT_DECAY = 5e-5  \n",
        "NUM_EPOCHS = 30     \n",
        "STEP_SIZE = 10       \n",
        "GAMMA = 0.25 \n",
        "alpha = 0.25\n",
        "\n",
        "net = netkWithReverseGrad(pretrained=True)\n",
        "net.class_classifier[6] = nn.Linear(4096, NUM_CLASSES)\n",
        "net.domain_classifier[6] = nn.Linear(4096, NUM_DOMAINS)\n",
        "\n",
        "loss_class = nn.CrossEntropyLoss()\n",
        "loss_domain = nn.CrossEntropyLoss()\n",
        "optimizer = optim.SGD(net.parameters(), lr=LR, momentum=MOMENTUM, weight_decay=WEIGHT_DECAY)\n",
        "scheduler = optim.lr_scheduler.StepLR(optimizer, step_size=STEP_SIZE, gamma=GAMMA)\n",
        "print(\"----------------CARTOON --------------------\")\n",
        "total_loss_array_c_1, accuracy_array_c_1, best_accuracy_c_1 = train_val_net_DANN(net, \"\", alpha, NUM_EPOCHS, BATCH_SIZE, max_batches, optimizer, loss_class, loss_domain, scheduler, photo_dataloader, cartoon_dataloader, size_cartoon)\n",
        "\n",
        "LR = 5e-3    \n",
        "MOMENTUM = 0.9     \n",
        "\n",
        "net = netkWithReverseGrad(pretrained=True)\n",
        "net.class_classifier[6] = nn.Linear(4096, NUM_CLASSES)\n",
        "net.domain_classifier[6] = nn.Linear(4096, NUM_DOMAINS)\n",
        "\n",
        "loss_class = nn.CrossEntropyLoss()\n",
        "loss_domain = nn.CrossEntropyLoss()\n",
        "optimizer = optim.SGD(net.parameters(), lr=LR, momentum=MOMENTUM, weight_decay=WEIGHT_DECAY)\n",
        "scheduler = optim.lr_scheduler.StepLR(optimizer, step_size=STEP_SIZE, gamma=GAMMA)\n",
        "print(\"----------------SKETCH --------------------\")\n",
        "total_loss_array_s_1, accuracy_array_s_1, best_accuracy_s_1 = train_val_net_DANN(net, \"\", alpha, NUM_EPOCHS, BATCH_SIZE, max_batches, optimizer, loss_class, loss_domain, scheduler, photo_dataloader, sketch_dataloader, size_sketch)\n",
        "mean_1 = (accuracy_array_c_1 + accuracy_array_s_1) / 2\n",
        "print(\"----------------MEAN {} --------------------\".format(mean_1))\n",
        "\n",
        "LR = 5e-3    \n",
        "MOMENTUM = 0.9    \n",
        "net = netkWithReverseGrad(pretrained=True)\n",
        "net.class_classifier[6] = nn.Linear(4096, NUM_CLASSES)\n",
        "net.domain_classifier[6] = nn.Linear(4096, NUM_DOMAINS)\n",
        "loss_class = nn.CrossEntropyLoss()\n",
        "loss_domain = nn.CrossEntropyLoss()\n",
        "optimizer = optim.SGD(net.parameters(), lr=LR, momentum=MOMENTUM, weight_decay=WEIGHT_DECAY)\n",
        "scheduler = optim.lr_scheduler.StepLR(optimizer, step_size=STEP_SIZE, gamma=GAMMA)\n",
        "\n",
        "train_net_DANN(net, \"\", alpha, NUM_EPOCHS, BATCH_SIZE, max_batches, optimizer, loss_class, loss_domain, scheduler, photo_dataloader, art_painting_dataloader)\n",
        "accuracy_1 = test_net(net, art_painting_dataloader, test_size)"
      ],
      "execution_count": 0,
      "outputs": []
    },
    {
      "cell_type": "code",
      "metadata": {
        "id": "mEIABmhAd4jZ",
        "colab_type": "code",
        "colab": {}
      },
      "source": [
        "LR = 5e-3           \n",
        "MOMENTUM = 0.9       \n",
        "WEIGHT_DECAY = 5e-5  \n",
        "NUM_EPOCHS = 20     \n",
        "STEP_SIZE = 10      \n",
        "GAMMA = 0.5   \n",
        "alpha = 0.1\n",
        "\n",
        "net = netkWithReverseGrad(pretrained=True)\n",
        "net.class_classifier[6] = nn.Linear(4096, NUM_CLASSES)\n",
        "net.domain_classifier[6] = nn.Linear(4096, NUM_DOMAINS)\n",
        "\n",
        "loss_class = nn.CrossEntropyLoss()\n",
        "loss_domain = nn.CrossEntropyLoss()\n",
        "optimizer = optim.SGD(net.parameters(), lr=LR, momentum=MOMENTUM, weight_decay=WEIGHT_DECAY)\n",
        "scheduler = optim.lr_scheduler.StepLR(optimizer, step_size=STEP_SIZE, gamma=GAMMA)\n",
        "print(\"----------------CARTOON --------------------\")\n",
        "total_loss_array_c_2, accuracy_array_c_2, best_accuracy_c_2 = train_val_net_DANN(net, \"\", alpha, NUM_EPOCHS, BATCH_SIZE, max_batches, optimizer, loss_class, loss_domain, scheduler, photo_dataloader, cartoon_dataloader, size_cartoon)\n",
        "\n",
        "LR = 5e-3           \n",
        "NUM_EPOCHS = 20     \n",
        "STEP_SIZE = 10      \n",
        "GAMMA = 0.5   \n",
        "alpha = 0.1 \n",
        "\n",
        "net = netkWithReverseGrad(pretrained=True)\n",
        "net.class_classifier[6] = nn.Linear(4096, NUM_CLASSES)\n",
        "net.domain_classifier[6] = nn.Linear(4096, NUM_DOMAINS)\n",
        "\n",
        "loss_class = nn.CrossEntropyLoss()\n",
        "loss_domain = nn.CrossEntropyLoss()\n",
        "optimizer = optim.SGD(net.parameters(), lr=LR, momentum=MOMENTUM, weight_decay=WEIGHT_DECAY)\n",
        "scheduler = optim.lr_scheduler.StepLR(optimizer, step_size=STEP_SIZE, gamma=GAMMA)\n",
        "print(\"----------------SKETCH --------------------\")\n",
        "total_loss_array_s_2, accuracy_array_s_2, best_accuracy_s_2 = train_val_net_DANN(net, \"\", alpha, NUM_EPOCHS, BATCH_SIZE, max_batches, optimizer, loss_class, loss_domain, scheduler, photo_dataloader, sketch_dataloader, size_sketch)\n",
        "mean_2 = (accuracy_array_c_2 + accuracy_array_s_2) / 2\n",
        "print(\"----------------MEAN {} --------------------\".format(mean_2))\n",
        "\n",
        "LR = 5e-3           \n",
        "NUM_EPOCHS = 20     \n",
        "STEP_SIZE = 10      \n",
        "GAMMA = 0.5   \n",
        "alpha = 0.1 \n",
        "net = netkWithReverseGrad(pretrained=True)\n",
        "net.class_classifier[6] = nn.Linear(4096, NUM_CLASSES)\n",
        "net.domain_classifier[6] = nn.Linear(4096, NUM_DOMAINS)\n",
        "loss_class = nn.CrossEntropyLoss()\n",
        "loss_domain = nn.CrossEntropyLoss()\n",
        "optimizer = optim.SGD(net.parameters(), lr=LR, momentum=MOMENTUM, weight_decay=WEIGHT_DECAY)\n",
        "scheduler = optim.lr_scheduler.StepLR(optimizer, step_size=STEP_SIZE, gamma=GAMMA)\n",
        "\n",
        "train_net_DANN(net, \"\", alpha, NUM_EPOCHS, BATCH_SIZE, max_batches, optimizer, loss_class, loss_domain, scheduler, photo_dataloader, art_painting_dataloader)\n",
        "accuracy_2 = test_net(net, art_painting_dataloader, test_size)"
      ],
      "execution_count": 0,
      "outputs": []
    },
    {
      "cell_type": "code",
      "metadata": {
        "id": "xP5SSN0Zg_UD",
        "colab_type": "code",
        "colab": {}
      },
      "source": [
        "LR = 8e-3           \n",
        "MOMENTUM = 0.9       \n",
        "WEIGHT_DECAY = 5e-5  \n",
        "NUM_EPOCHS = 25    \n",
        "STEP_SIZE = 10       \n",
        "GAMMA = 0.25   \n",
        "alpha = 0.1 \n",
        "\n",
        "net = netkWithReverseGrad(pretrained=True)\n",
        "net.class_classifier[6] = nn.Linear(4096, NUM_CLASSES)\n",
        "net.domain_classifier[6] = nn.Linear(4096, NUM_DOMAINS)\n",
        "\n",
        "loss_class = nn.CrossEntropyLoss()\n",
        "loss_domain = nn.CrossEntropyLoss()\n",
        "optimizer = optim.SGD(net.parameters(), lr=LR, momentum=MOMENTUM, weight_decay=WEIGHT_DECAY)\n",
        "scheduler = optim.lr_scheduler.StepLR(optimizer, step_size=STEP_SIZE, gamma=GAMMA)\n",
        "print(\"----------------CARTOON --------------------\")\n",
        "total_loss_array_c_3, accuracy_array_c_3, best_accuracy_c_3 = train_val_net_DANN(net, \"\", alpha, NUM_EPOCHS, BATCH_SIZE, max_batches, optimizer, loss_class, loss_domain, scheduler, photo_dataloader, cartoon_dataloader, size_cartoon)\n",
        "\n",
        "LR = 8e-3           \n",
        "NUM_EPOCHS = 25    \n",
        "STEP_SIZE = 10       \n",
        "GAMMA = 0.25   \n",
        "alpha = 0.1\n",
        "net = netkWithReverseGrad(pretrained=True)\n",
        "net.class_classifier[6] = nn.Linear(4096, NUM_CLASSES)\n",
        "net.domain_classifier[6] = nn.Linear(4096, NUM_DOMAINS)\n",
        "loss_class = nn.CrossEntropyLoss()\n",
        "loss_domain = nn.CrossEntropyLoss()\n",
        "optimizer = optim.SGD(net.parameters(), lr=LR, momentum=MOMENTUM, weight_decay=WEIGHT_DECAY)\n",
        "scheduler = optim.lr_scheduler.StepLR(optimizer, step_size=STEP_SIZE, gamma=GAMMA)\n",
        "print(\"----------------SKETCH --------------------\")\n",
        "total_loss_array_s_3, accuracy_array_s_3, best_accuracy_s_3 = train_val_net_DANN(net, \"\", alpha, NUM_EPOCHS, BATCH_SIZE, max_batches, optimizer, loss_class, loss_domain, scheduler, photo_dataloader, sketch_dataloader, size_sketch)\n",
        "mean_3 = (accuracy_array_c_3 + accuracy_array_s_3) / 2\n",
        "print(\"----------------MEAN {} --------------------\".format(mean_3))\n",
        "\n",
        "LR = 8e-3           \n",
        "NUM_EPOCHS = 25    \n",
        "STEP_SIZE = 10       \n",
        "GAMMA = 0.25   \n",
        "alpha = 0.1\n",
        "net = netkWithReverseGrad(pretrained=True)\n",
        "net.class_classifier[6] = nn.Linear(4096, NUM_CLASSES)\n",
        "net.domain_classifier[6] = nn.Linear(4096, NUM_DOMAINS)\n",
        "loss_class = nn.CrossEntropyLoss()\n",
        "loss_domain = nn.CrossEntropyLoss()\n",
        "optimizer = optim.SGD(net.parameters(), lr=LR, momentum=MOMENTUM, weight_decay=WEIGHT_DECAY)\n",
        "scheduler = optim.lr_scheduler.StepLR(optimizer, step_size=STEP_SIZE, gamma=GAMMA)\n",
        "\n",
        "train_net_DANN(net, \"\", alpha, NUM_EPOCHS, BATCH_SIZE, max_batches, optimizer, loss_class, loss_domain, scheduler, photo_dataloader, art_painting_dataloader)\n",
        "accuracy_3 = test_net(net, art_painting_dataloader, test_size)"
      ],
      "execution_count": 0,
      "outputs": []
    },
    {
      "cell_type": "code",
      "metadata": {
        "id": "qAhotqsFJ9iV",
        "colab_type": "code",
        "colab": {}
      },
      "source": [
        "LR = 1e-4           \n",
        "MOMENTUM = 0.9       \n",
        "WEIGHT_DECAY = 5e-5  \n",
        "NUM_EPOCHS = 25    \n",
        "STEP_SIZE = 10       \n",
        "GAMMA = 0.25   \n",
        "alpha = 0.15 \n",
        "\n",
        "net = netkWithReverseGrad(pretrained=True)\n",
        "net.class_classifier[6] = nn.Linear(4096, NUM_CLASSES)\n",
        "net.domain_classifier[6] = nn.Linear(4096, NUM_DOMAINS)\n",
        "\n",
        "loss_class = nn.CrossEntropyLoss()\n",
        "loss_domain = nn.CrossEntropyLoss()\n",
        "optimizer = optim.SGD(net.parameters(), lr=LR, momentum=MOMENTUM, weight_decay=WEIGHT_DECAY)\n",
        "scheduler = optim.lr_scheduler.StepLR(optimizer, step_size=STEP_SIZE, gamma=GAMMA)\n",
        "print(\"----------------CARTOON --------------------\")\n",
        "total_loss_array_c_4, accuracy_array_c_4, best_accuracy_c_4 = train_val_net_DANN(net, \"\", alpha, NUM_EPOCHS, BATCH_SIZE, max_batches, optimizer, loss_class, loss_domain, scheduler, photo_dataloader, cartoon_dataloader, size_cartoon)\n",
        "\n",
        "LR = 1e-4           \n",
        "NUM_EPOCHS = 25    \n",
        "STEP_SIZE = 10       \n",
        "GAMMA = 0.25   \n",
        "alpha = 0.15 \n",
        "\n",
        "net = netkWithReverseGrad(pretrained=True)\n",
        "net.class_classifier[6] = nn.Linear(4096, NUM_CLASSES)\n",
        "net.domain_classifier[6] = nn.Linear(4096, NUM_DOMAINS)\n",
        "\n",
        "loss_class = nn.CrossEntropyLoss()\n",
        "loss_domain = nn.CrossEntropyLoss()\n",
        "optimizer = optim.SGD(net.parameters(), lr=LR, momentum=MOMENTUM, weight_decay=WEIGHT_DECAY)\n",
        "scheduler = optim.lr_scheduler.StepLR(optimizer, step_size=STEP_SIZE, gamma=GAMMA)\n",
        "print(\"----------------SKETCH --------------------\")\n",
        "total_loss_array_s_4, accuracy_array_s_4, best_accuracy_s_4 = train_val_net_DANN(net, \"\", alpha, NUM_EPOCHS, BATCH_SIZE, max_batches, optimizer, loss_class, loss_domain, scheduler, photo_dataloader, sketch_dataloader, size_sketch)\n",
        "mean_4 = (accuracy_array_c_4 + accuracy_array_s_4) / 2\n",
        "print(\"----------------MEAN {} --------------------\".format(mean_4))\n",
        "\n",
        "LR = 1e-4           \n",
        "NUM_EPOCHS = 25    \n",
        "STEP_SIZE = 10       \n",
        "GAMMA = 0.25   \n",
        "alpha = 0.15 \n",
        "net = netkWithReverseGrad(pretrained=True)\n",
        "net.class_classifier[6] = nn.Linear(4096, NUM_CLASSES)\n",
        "net.domain_classifier[6] = nn.Linear(4096, NUM_DOMAINS)\n",
        "loss_class = nn.CrossEntropyLoss()\n",
        "loss_domain = nn.CrossEntropyLoss()\n",
        "optimizer = optim.SGD(net.parameters(), lr=LR, momentum=MOMENTUM, weight_decay=WEIGHT_DECAY)\n",
        "scheduler = optim.lr_scheduler.StepLR(optimizer, step_size=STEP_SIZE, gamma=GAMMA)\n",
        "train_net_DANN(net, \"\", alpha, NUM_EPOCHS, BATCH_SIZE, max_batches, optimizer, loss_class, loss_domain, scheduler, photo_dataloader, art_painting_dataloader)\n",
        "accuracy_4 = test_net(net, art_painting_dataloader, test_size)"
      ],
      "execution_count": 0,
      "outputs": []
    },
    {
      "cell_type": "code",
      "metadata": {
        "id": "kpu15HevwNDO",
        "colab_type": "code",
        "colab": {}
      },
      "source": [
        "LR = 8e-3           \n",
        "MOMENTUM = 0.9       \n",
        "WEIGHT_DECAY = 5e-5  \n",
        "NUM_EPOCHS = 25    \n",
        "STEP_SIZE = 10       \n",
        "GAMMA = 0.25   \n",
        "alpha = 0.1 \n",
        "\n",
        "net = netkWithReverseGrad(pretrained=True)\n",
        "net.class_classifier[6] = nn.Linear(4096, NUM_CLASSES)\n",
        "net.domain_classifier[6] = nn.Linear(4096, NUM_DOMAINS)\n",
        "\n",
        "loss_class = nn.CrossEntropyLoss()\n",
        "loss_domain = nn.CrossEntropyLoss()\n",
        "optimizer = optim.SGD(net.parameters(), lr=LR, momentum=MOMENTUM, weight_decay=WEIGHT_DECAY)\n",
        "scheduler = optim.lr_scheduler.StepLR(optimizer, step_size=STEP_SIZE, gamma=GAMMA)\n",
        "print(\"----------------CARTOON --------------------\")\n",
        "total_loss_array_c_5, accuracy_array_c_5, best_accuracy_c_5 = train_val_net_DANN(net, \"\", alpha, NUM_EPOCHS, BATCH_SIZE, max_batches, optimizer, loss_class, loss_domain, scheduler, photo_dataloader, cartoon_dataloader, size_cartoon)\n",
        "\n",
        "LR = 8e-3           \n",
        "NUM_EPOCHS = 25    \n",
        "STEP_SIZE = 10       \n",
        "GAMMA = 0.25   \n",
        "alpha = 0.1 \n",
        "\n",
        "net = netkWithReverseGrad(pretrained=True)\n",
        "net.class_classifier[6] = nn.Linear(4096, NUM_CLASSES)\n",
        "net.domain_classifier[6] = nn.Linear(4096, NUM_DOMAINS)\n",
        "\n",
        "optimizer = optim.SGD(net.parameters(), lr=LR, momentum=MOMENTUM, weight_decay=WEIGHT_DECAY)\n",
        "scheduler = optim.lr_scheduler.StepLR(optimizer, step_size=STEP_SIZE, gamma=GAMMA)\n",
        "print(\"----------------SKETCH --------------------\")\n",
        "total_loss_array_s_5, accuracy_array_s_5, best_accuracy_s_5 = train_val_net_DANN(net, \"\", alpha, NUM_EPOCHS, BATCH_SIZE, max_batches, optimizer, loss_class, loss_domain, scheduler, photo_dataloader, sketch_dataloader, size_sketch)\n",
        "mean_5 = (accuracy_array_c_5 + accuracy_array_s_5) / 2\n",
        "print(\"----------------MEAN {} --------------------\".format(mean_5))\n",
        "\n",
        "\n",
        "LR = 8e-3           \n",
        "NUM_EPOCHS = 25    \n",
        "STEP_SIZE = 10       \n",
        "GAMMA = 0.25   \n",
        "alpha = 0.1 \n",
        "net = netkWithReverseGrad(pretrained=True)\n",
        "net.class_classifier[6] = nn.Linear(4096, NUM_CLASSES)\n",
        "net.domain_classifier[6] = nn.Linear(4096, NUM_DOMAINS)\n",
        "optimizer = optim.SGD(net.parameters(), lr=LR, momentum=MOMENTUM, weight_decay=WEIGHT_DECAY)\n",
        "scheduler = optim.lr_scheduler.StepLR(optimizer, step_size=STEP_SIZE, gamma=GAMMA)\n",
        "train_net_DANN(net, \"\", alpha, NUM_EPOCHS, BATCH_SIZE, max_batches, optimizer, loss_class, loss_domain, scheduler, photo_dataloader, art_painting_dataloader)\n",
        "accuracy_5 = test_net(net, art_painting_dataloader, test_size)"
      ],
      "execution_count": 0,
      "outputs": []
    },
    {
      "cell_type": "code",
      "metadata": {
        "id": "cqc9-XxLy2Gy",
        "colab_type": "code",
        "colab": {}
      },
      "source": [
        "#PLOT TOTAL LOSS\n",
        "plt.figure(figsize=(10, 8))\n",
        "plt.plot(np.arange(20), total_loss_array_s_1, '-ob')\n",
        "plt.plot(np.arange(20), total_loss_array_s_2, '-og')\n",
        "plt.plot(np.arange(25), total_loss_array_s_3, '-or')\n",
        "plt.plot(np.arange(25), total_loss_array_s_4, '-om')\n",
        "plt.plot(np.arange(25), total_loss_array_s_5, '-oy')\n",
        "plt.xlabel('Epoch')\n",
        "plt.ylabel('Total loss Sketch')\n",
        "plt.show()"
      ],
      "execution_count": 0,
      "outputs": []
    },
    {
      "cell_type": "code",
      "metadata": {
        "id": "2mWFJWhHcWaB",
        "colab_type": "code",
        "colab": {}
      },
      "source": [
        "#PLOT TOTAL LOSS\n",
        "plt.figure(figsize=(10, 8))\n",
        "plt.plot(np.arange(20), total_loss_array_c_1, '-ob')\n",
        "plt.plot(np.arange(20), total_loss_array_c_2, '-og')\n",
        "plt.plot(np.arange(25), total_loss_array_c_3, '-or')\n",
        "plt.plot(np.arange(25), total_loss_array_c_4, '-om')\n",
        "plt.plot(np.arange(25), total_loss_array_c_5, '-oy')\n",
        "plt.xlabel('Epoch')\n",
        "plt.ylabel('Total loss Cartoon')\n",
        "plt.show()"
      ],
      "execution_count": 0,
      "outputs": []
    },
    {
      "cell_type": "code",
      "metadata": {
        "id": "5cc5Drrf2jXZ",
        "colab_type": "code",
        "colab": {}
      },
      "source": [
        "#PLOT MEAN ACC\n",
        "plt.figure(figsize=(10, 8))\n",
        "plt.plot(np.arange(20), mean_1, '-ob')\n",
        "plt.plot(np.arange(20), mean_2, '-og')\n",
        "plt.plot(np.arange(25), mean_3, '-or')\n",
        "plt.plot(np.arange(25), mean_4, '-om')\n",
        "plt.plot(np.arange(25), mean_5, '-oy')\n",
        "plt.xlabel('Epoch')\n",
        "plt.ylabel('Mean validation accuracies')\n",
        "plt.show()"
      ],
      "execution_count": 0,
      "outputs": []
    },
    {
      "cell_type": "code",
      "metadata": {
        "id": "wh1PZItJ2jw1",
        "colab_type": "code",
        "colab": {}
      },
      "source": [
        "#PLOT SKETCH VAL ACC\n",
        "plt.figure(figsize=(10, 8))\n",
        "plt.plot(np.arange(20), accuracy_array_s_1, '-ob')\n",
        "plt.plot(np.arange(20), accuracy_array_s_2, '-og')\n",
        "plt.plot(np.arange(25), accuracy_array_s_3, '-or')\n",
        "plt.plot(np.arange(25), accuracy_array_s_4, '-om')\n",
        "plt.plot(np.arange(25), accuracy_array_s_5, '-oy')\n",
        "plt.xlabel('Epoch')\n",
        "plt.ylabel('Sketch validation accuracy')\n",
        "plt.show()"
      ],
      "execution_count": 0,
      "outputs": []
    },
    {
      "cell_type": "code",
      "metadata": {
        "id": "5socKviz2kCQ",
        "colab_type": "code",
        "colab": {}
      },
      "source": [
        "#PLOT CARTOON VAL ACC\n",
        "plt.figure(figsize=(10, 8))\n",
        "plt.plot(np.arange(20), accuracy_array_c_1, '-ob')\n",
        "plt.plot(np.arange(20), accuracy_array_c_2, '-og')\n",
        "plt.plot(np.arange(25), accuracy_array_c_3, '-or')\n",
        "plt.plot(np.arange(25), accuracy_array_c_4, '-om')\n",
        "plt.plot(np.arange(25), accuracy_array_c_5, '-oy')\n",
        "plt.xlabel('Epoch')\n",
        "plt.ylabel('Cartoon validation accuracy')\n",
        "plt.show()"
      ],
      "execution_count": 0,
      "outputs": []
    }
  ]
}